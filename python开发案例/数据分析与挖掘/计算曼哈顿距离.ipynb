{
 "cells": [
  {
   "cell_type": "code",
   "execution_count": 23,
   "metadata": {},
   "outputs": [
    {
     "name": "stdout",
     "output_type": "stream",
     "text": [
      "{'Blues Traveler': 3.5, 'Broken Bells': 2.0, 'Norah Jones': 4.5, 'Phoenix': 5.0, 'Slightly Stoopid': 1.5, 'The Strokes': 2.5, 'Vampire Weekend': 2.0}\n",
      "*********************************************计算曼哈顿距离测试**********************************************\n",
      "2.0\n",
      "7.5\n",
      "*****************************************返回所有用户至某用户的距离列表测试******************************************\n",
      "[(2.0, 'Veronica'), (4.0, 'Chan'), (4.0, 'Sam'), (4.5, 'Dan'), (5.0, 'Angelica'), (5.5, 'Bill'), (7.5, 'Jordyn')]\n",
      "*********************************************返回推介结果列表测试*********************************************\n",
      "[('Phoenix', 4.0), ('Blues Traveler', 3.0), ('Slightly Stoopid', 2.5)]\n",
      "[('The Strokes', 4.0), ('Vampire Weekend', 1.0)]\n",
      "[('Norah Jones', 5.0)]\n",
      "[]\n",
      "[(3.5, 'Veronica'), (4.5, 'Chan'), (5.0, 'Hailey'), (8.0, 'Sam'), (9.0, 'Bill'), (9.0, 'Dan'), (9.5, 'Jordyn')]\n",
      "******************************************闵可夫斯基距离之欧几里得距离测试******************************************\n",
      "3.1622776601683795\n"
     ]
    }
   ],
   "source": [
    "users = {\"Angelica\": {\"Blues Traveler\": 3.5, \"Broken Bells\": 2.0, \"Norah Jones\": 4.5, \"Phoenix\": 5.0, \"Slightly Stoopid\": 1.5, \"The Strokes\": 2.5, \"Vampire Weekend\": 2.0},\n",
    "         \"Bill\":{\"Blues Traveler\": 2.0, \"Broken Bells\": 3.5, \"Deadmau5\": 4.0, \"Phoenix\": 2.0, \"Slightly Stoopid\": 3.5, \"Vampire Weekend\": 3.0},\n",
    "         \"Chan\": {\"Blues Traveler\": 5.0, \"Broken Bells\": 1.0, \"Deadmau5\": 1.0, \"Norah Jones\": 3.0, \"Phoenix\": 5, \"Slightly Stoopid\": 1.0},\n",
    "         \"Dan\": {\"Blues Traveler\": 3.0, \"Broken Bells\": 4.0, \"Deadmau5\": 4.5, \"Phoenix\": 3.0, \"Slightly Stoopid\": 4.5, \"The Strokes\": 4.0, \"Vampire Weekend\": 2.0},\n",
    "         \"Hailey\": {\"Broken Bells\": 4.0, \"Deadmau5\": 1.0, \"Norah Jones\": 4.0, \"The Strokes\": 4.0, \"Vampire Weekend\": 1.0},\n",
    "         \"Jordyn\":  {\"Broken Bells\": 4.5, \"Deadmau5\": 4.0, \"Norah Jones\": 5.0, \"Phoenix\": 5.0, \"Slightly Stoopid\": 4.5, \"The Strokes\": 4.0, \"Vampire Weekend\": 4.0},\n",
    "         \"Sam\": {\"Blues Traveler\": 5.0, \"Broken Bells\": 2.0, \"Norah Jones\": 3.0, \"Phoenix\": 5.0, \"Slightly Stoopid\": 4.0, \"The Strokes\": 5.0},\n",
    "         \"Veronica\": {\"Blues Traveler\": 3.0, \"Norah Jones\": 5.0, \"Phoenix\": 4.0, \"Slightly Stoopid\": 2.5, \"The Strokes\": 3.0}\n",
    "        }\n",
    "print(users['Angelica'])\n",
    "\n",
    "# 计算曼哈顿距离\n",
    "def manhattan(rating1, rating2):\n",
    "    \"\"\"rating1和rating2参数中存储的数据格式均为\n",
    "    {'The Strokes': 3.0, 'Slightly Stoopid': 2.5}\"\"\"\n",
    "    distance = 0\n",
    "    for key in rating1:\n",
    "        if key in rating2:\n",
    "            distance += abs(rating1[key] - rating2[key])\n",
    "    return distance\n",
    "\n",
    "# 计算所有用户至username用户的距离\n",
    "def computeNearestNeighbor(username, users):\n",
    "    \"\"\"倒序排列并返回结果列表\"\"\"\n",
    "    distances = []\n",
    "    for user in users:\n",
    "        if user != username:\n",
    "            distance = manhattan(users[user], users[username])\n",
    "            distances.append((distance, user))\n",
    "    # 按距离排序——距离近的排在前面\n",
    "    distances.sort()\n",
    "    return distances\n",
    "\n",
    "def recommend(username, users):\n",
    "    \"\"\"返回推荐结果列表\"\"\"\n",
    "    # 找到距离最近的用户\n",
    "    nearest = computeNearestNeighbor(username, users)[0][1]\n",
    "    recommendations = []\n",
    "    # 找出这位用户评价过、但自己未曾评价的乐队\n",
    "    neighborRatings = users[nearest]\n",
    "    userRatings = users[username]\n",
    "    for artist in neighborRatings:\n",
    "        if not artist in userRatings:\n",
    "            recommendations.append((artist, neighborRatings[artist]))\n",
    "    # 按照评分进行排序\n",
    "    return sorted(recommendations, key=lambda artistTuple: artistTuple[1], reverse = True)\n",
    "\n",
    "# 计算闵可夫斯基距离, 并在计算用户距离时使用它\n",
    "def minkowski(rating1, rating2, r):\n",
    "    distance = 0\n",
    "    for key in rating1:\n",
    "        if key in rating2:\n",
    "            distance += pow((rating1[key] - rating2[key]), r)\n",
    "    return pow(distance, 1.0/r)\n",
    "\n",
    "# 测试\n",
    "print('计算曼哈顿距离测试'.center(100, '*'))\n",
    "print(manhattan(users['Hailey'], users['Veronica']))\n",
    "print(manhattan(users['Hailey'], users['Jordyn']))\n",
    "\n",
    "print('返回所有用户至某用户的距离列表测试'.center(100, '*'))\n",
    "print(computeNearestNeighbor(\"Hailey\", users))   # 返回所有用户至Hailey用户的距离列表, 距离越近越前面\n",
    "\n",
    "print('返回推介结果列表测试'.center(100, '*'))\n",
    "print(recommend('Hailey', users))       # 返回推介结果列表, (即从与距离Hailey最近那个人中, 找出Hailey未评价的且按评分越高越排前的列表)\n",
    "print(recommend('Chan', users))\n",
    "print(recommend('Dan', users))\n",
    "print(recommend('Angelica', users))     # 这个返回空list的原因,我们可以看到，Veronica评价过的乐队，Angelica也都评价过了，所以我们没有推荐。\n",
    "                                        # 之后我们会讨论如何解决这个问题\n",
    "print(computeNearestNeighbor('Angelica', users))\n",
    "\n",
    "print('闵可夫斯基距离之欧几里得距离测试'.center(100, '*'))\n",
    "print(minkowski(users['Hailey'], users['Chan'], 2))"
   ]
  },
  {
   "cell_type": "code",
   "execution_count": null,
   "metadata": {
    "collapsed": true
   },
   "outputs": [],
   "source": []
  },
  {
   "cell_type": "code",
   "execution_count": null,
   "metadata": {
    "collapsed": true
   },
   "outputs": [],
   "source": []
  }
 ],
 "metadata": {
  "kernelspec": {
   "display_name": "Python 3",
   "language": "python",
   "name": "python3"
  },
  "language_info": {
   "codemirror_mode": {
    "name": "ipython",
    "version": 3
   },
   "file_extension": ".py",
   "mimetype": "text/x-python",
   "name": "python",
   "nbconvert_exporter": "python",
   "pygments_lexer": "ipython3",
   "version": "3.6.2"
  }
 },
 "nbformat": 4,
 "nbformat_minor": 1
}
