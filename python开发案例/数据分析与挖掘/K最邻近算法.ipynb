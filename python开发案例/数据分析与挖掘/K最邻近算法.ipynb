{
 "cells": [
  {
   "cell_type": "code",
   "execution_count": null,
   "metadata": {
    "collapsed": true
   },
   "outputs": [],
   "source": [
    "# coding=utf-8\n",
    "\n",
    "'''\n",
    "问题分析:\n",
    "问题就在于我们只依靠最相似的 一个 用户来做推荐，\n",
    "如果这个用户有些特殊的偏好，就会直接反映在推荐内容里。\n",
    "解决方法之一是找寻多个相似的用户，这里就要用到K最邻近算法了\n",
    "'''\n",
    "\n",
    "'''\n",
    "在协同过滤中可以使用K最邻近算法来找出K个最相似的用户，以此作为推荐的基础。\n",
    "不同的应用有不同的K值，需要做一些实验来得出\n",
    "'''\n",
    "\n",
    "'''\n",
    "假设我要为Ann做推荐，并令K=3。使用皮尔逊相关系数得到的结果是：\n",
    "Person       Person\n",
    "Sally        0.8\n",
    "Eric         0.7\n",
    "Amanda       0.5\n",
    "\n",
    "这三个人都会对推荐结果有所贡献，问题在于我们如何确定他们的比重呢？\n",
    "我们直接用相关系数的比重来描述，Sally的比重是0.8/2=40%，Eric是0.7/2=35%，Amanda则是25%\n",
    "\n",
    "假设他们三人对Grey Wardens的评分以及加权后的结果如下\n",
    "Person      Grey Wardens Rating    Influence\n",
    "Amanda       4.5                   25%\n",
    "Eric         5                     35%\n",
    "Sally        3.5                   40%\n",
    "\n",
    "最后计算得到的分数:\n",
    "Project rating = (4.5*.25)+(5*.35)+(3.5*.4) = 4.275\n",
    "'''"
   ]
  }
 ],
 "metadata": {
  "kernelspec": {
   "display_name": "Python 3",
   "language": "python",
   "name": "python3"
  },
  "language_info": {
   "codemirror_mode": {
    "name": "ipython",
    "version": 3
   },
   "file_extension": ".py",
   "mimetype": "text/x-python",
   "name": "python",
   "nbconvert_exporter": "python",
   "pygments_lexer": "ipython3",
   "version": "3.6.2"
  }
 },
 "nbformat": 4,
 "nbformat_minor": 2
}
