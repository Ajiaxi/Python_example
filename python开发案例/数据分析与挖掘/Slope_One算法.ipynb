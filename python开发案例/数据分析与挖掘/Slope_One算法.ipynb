{
 "cells": [
  {
   "cell_type": "code",
   "execution_count": null,
   "metadata": {
    "collapsed": true
   },
   "outputs": [],
   "source": [
    "# coding = utf-8\n",
    "\n",
    "'''\n",
    "还有一种比较流行的基于物品的协同过滤算法，名为Slope One，它最大的优势是简单，因此易于实现\n",
    "'''\n",
    "\n",
    "'''\n",
    "我们用一个简单的例子来了解这个算法。\n",
    "假设Amy给PSY打了3分，Whitney Houston打了4分；\n",
    "Ben给PSY打了4分。我们要预测Ben会给Whitney Houston打几分？\n",
    "\n",
    "用表格描述这个问题:\n",
    "     PSY    Whitney Houston\n",
    "Amy  3      4\n",
    "Ben  4      ?\n",
    "\n",
    "我们可以用以下逻辑来预测Ben对Whitney Houston的评分：\n",
    "由于Amy给Whitney Houston打的分数要比PSY的高一分，所以我们预测Ben也会给高一分，即给到5分\n",
    "\n",
    "其实还有其他形式的Slope One算法，比如加权的Slope One。\n",
    "我们说过Slope One的优势之一是简单，下面说的加权的Slope One看起来会有一些复杂，但是只要耐心地看下去，事情就会变得很清晰了\n",
    "\n",
    "你可以将Slope One分为两个步骤：首先需要计算出两两物品之间的差值（可以在夜间批量计算）。\n",
    "在上文的例子中，这个步骤就是得出Whitney Houston要比PSY高一分。\n",
    "第二步则是进行预测，比如一个新用户Ben来到了我们网站，他从未听过Whitney Houston的歌曲，我们想要预测他是否喜欢这位歌手。\n",
    "通过利用他评价过的歌手以及我们计算好的歌手之间的评分差值，就可以进行预测了\n",
    "\n",
    "第一步：计算差值\n",
    "\n",
    "'''"
   ]
  }
 ],
 "metadata": {
  "kernelspec": {
   "display_name": "Python 3",
   "language": "python",
   "name": "python3"
  },
  "language_info": {
   "codemirror_mode": {
    "name": "ipython",
    "version": 3
   },
   "file_extension": ".py",
   "mimetype": "text/x-python",
   "name": "python",
   "nbconvert_exporter": "python",
   "pygments_lexer": "ipython3",
   "version": "3.6.2"
  }
 },
 "nbformat": 4,
 "nbformat_minor": 2
}
