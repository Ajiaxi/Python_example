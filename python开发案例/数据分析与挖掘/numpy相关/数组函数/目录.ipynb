{
 "cells": [
  {
   "cell_type": "markdown",
   "metadata": {},
   "source": [
    "# 数组函数\n",
    "目录: \n",
    "* 通用元素级数组函数\n",
    "    * 常用一元ufunc\n",
    "    * 常用二元ufunc\n",
    "* 数组统计函数\n",
    "    * sum用法\n",
    "    * argmax用法\n",
    "    * mean用法\n",
    "    * cumsum用法\n",
    "* all和any函数\n",
    "* 添加和删除函数\n",
    "    * delete方法使用\n",
    "    * insert方法使用\n",
    "    * append方法使用\n",
    "    * concatenate方法使用\n",
    "* 唯一化和集合函数\n",
    "    * 唯一化\n",
    "    * 计算两个数组交集\n",
    "    * 计算两个数组并集\n",
    "    * 数组中的元素是否在另一个数组中存在\n",
    "    * 计算两个数组的差集\n",
    "* 随机数生成函数\n",
    "* 数组排序函数"
   ]
  },
  {
   "cell_type": "code",
   "execution_count": null,
   "metadata": {},
   "outputs": [],
   "source": []
  }
 ],
 "metadata": {
  "kernelspec": {
   "display_name": "Python 3",
   "language": "python",
   "name": "python3"
  },
  "language_info": {
   "codemirror_mode": {
    "name": "ipython",
    "version": 3
   },
   "file_extension": ".py",
   "mimetype": "text/x-python",
   "name": "python",
   "nbconvert_exporter": "python",
   "pygments_lexer": "ipython3",
   "version": "3.6.4"
  }
 },
 "nbformat": 4,
 "nbformat_minor": 2
}
