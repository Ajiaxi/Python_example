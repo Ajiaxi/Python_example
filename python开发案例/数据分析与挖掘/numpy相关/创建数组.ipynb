{
 "cells": [
  {
   "cell_type": "markdown",
   "metadata": {},
   "source": [
    "# 创建ndarray\n",
    "创建数组最简单的方法就是用array函数.它接收一切序列型的对象(包括其他数组), 然后产生一个新的含有传入数据的numpy数组"
   ]
  },
  {
   "cell_type": "code",
   "execution_count": 1,
   "metadata": {},
   "outputs": [],
   "source": [
    "import numpy as np\n",
    "\n",
    "ndarray_1 = np.array([1, 2, 3, 4])\n",
    "ndarray_2 = np.array(list('abcdefg'))\n",
    "ndarray_3 = np.array([[11, 22, 33, 44], [10, 20, 30, 40]])"
   ]
  },
  {
   "cell_type": "code",
   "execution_count": 3,
   "metadata": {},
   "outputs": [
    {
     "data": {
      "text/plain": [
       "array([1, 2, 3, 4])"
      ]
     },
     "execution_count": 3,
     "metadata": {},
     "output_type": "execute_result"
    }
   ],
   "source": [
    "ndarray_1"
   ]
  },
  {
   "cell_type": "code",
   "execution_count": 4,
   "metadata": {},
   "outputs": [
    {
     "data": {
      "text/plain": [
       "array(['a', 'b', 'c', 'd', 'e', 'f', 'g'],\n",
       "      dtype='<U1')"
      ]
     },
     "execution_count": 4,
     "metadata": {},
     "output_type": "execute_result"
    }
   ],
   "source": [
    "ndarray_2"
   ]
  },
  {
   "cell_type": "code",
   "execution_count": 5,
   "metadata": {},
   "outputs": [
    {
     "data": {
      "text/plain": [
       "array([[11, 22, 33, 44],\n",
       "       [10, 20, 30, 40]])"
      ]
     },
     "execution_count": 5,
     "metadata": {},
     "output_type": "execute_result"
    }
   ],
   "source": [
    "ndarray_3"
   ]
  },
  {
   "cell_type": "markdown",
   "metadata": {},
   "source": [
    "## 利用zeros和zeros_like创建数组\n",
    "用于创建数组，数组元素默认值是0. 注意:zeros_linke函数只是根据传入的ndarray数组的shape来创建所有元素为0的数组，并不是\b拷贝源数组中的数据."
   ]
  },
  {
   "cell_type": "code",
   "execution_count": 6,
   "metadata": {},
   "outputs": [
    {
     "name": "stdout",
     "output_type": "stream",
     "text": [
      "以下为数组类型:\n",
      "ndarray4: <class 'numpy.ndarray'>\n",
      "ndarray5: <class 'numpy.ndarray'>\n",
      "ndarray6: <class 'numpy.ndarray'>\n",
      "-------------\n",
      "以下为数组元素类型:\n",
      "ndarray4: float64\n",
      "ndarray5: float64\n",
      "ndarray6: float64\n",
      "-------------\n",
      "以下为数组形状:\n",
      "ndarray4: (10,)\n",
      "ndarray5: (3, 3)\n",
      "ndarray6: (3, 3)\n"
     ]
    }
   ],
   "source": [
    "ndarray4 = np.zeros(10)\n",
    "ndarray5 = np.zeros((3, 3))\n",
    "ndarray6 = np.zeros_like(ndarray5)  # 按照 ndarray5 的shape创建数组\n",
    "# 打印数组元素类型\n",
    "print(\"以下为数组类型:\")\n",
    "print('ndarray4:', type(ndarray4))\n",
    "print('ndarray5:', type(ndarray5))\n",
    "print('ndarray6:', type(ndarray6))\n",
    "print(\"-------------\")\n",
    "print(\"以下为数组元素类型:\")\n",
    "print('ndarray4:', ndarray4.dtype)\n",
    "print('ndarray5:', ndarray5.dtype)\n",
    "print('ndarray6:', ndarray6.dtype)\n",
    "print(\"-------------\")\n",
    "print(\"以下为数组形状:\")\n",
    "print('ndarray4:', ndarray4.shape)\n",
    "print('ndarray5:', ndarray5.shape)\n",
    "print('ndarray6:', ndarray6.shape)"
   ]
  },
  {
   "cell_type": "markdown",
   "metadata": {},
   "source": [
    "## ones和ones_likes创建数组\n",
    "用于创建所有元素都为1的数组.\n",
    "ones_like用法同zeros_like用法"
   ]
  },
  {
   "cell_type": "code",
   "execution_count": 7,
   "metadata": {},
   "outputs": [],
   "source": [
    "# 创建数组，元素默认值是0\n",
    "ndarray7 = np.ones(10)\n",
    "ndarray8 = np.ones((3, 3))\n",
    "# 修改元素的值\n",
    "ndarray8[0][1] = 999\n",
    "ndarray9 = np.ones_like(ndarray5)  # 按照 ndarray5 的shape创建数组"
   ]
  },
  {
   "cell_type": "code",
   "execution_count": 8,
   "metadata": {},
   "outputs": [
    {
     "data": {
      "text/plain": [
       "array([ 1.,  1.,  1.,  1.,  1.,  1.,  1.,  1.,  1.,  1.])"
      ]
     },
     "execution_count": 8,
     "metadata": {},
     "output_type": "execute_result"
    }
   ],
   "source": [
    "ndarray7"
   ]
  },
  {
   "cell_type": "code",
   "execution_count": 9,
   "metadata": {},
   "outputs": [
    {
     "data": {
      "text/plain": [
       "array([[   1.,  999.,    1.],\n",
       "       [   1.,    1.,    1.],\n",
       "       [   1.,    1.,    1.]])"
      ]
     },
     "execution_count": 9,
     "metadata": {},
     "output_type": "execute_result"
    }
   ],
   "source": [
    "ndarray8"
   ]
  },
  {
   "cell_type": "code",
   "execution_count": 10,
   "metadata": {},
   "outputs": [
    {
     "data": {
      "text/plain": [
       "array([[ 1.,  1.,  1.],\n",
       "       [ 1.,  1.,  1.],\n",
       "       [ 1.,  1.,  1.]])"
      ]
     },
     "execution_count": 10,
     "metadata": {},
     "output_type": "execute_result"
    }
   ],
   "source": [
    "ndarray9"
   ]
  },
  {
   "cell_type": "markdown",
   "metadata": {},
   "source": [
    "## empty和empty_like创建数组\n",
    "用于创建空数组, 空数据中的值并不为0, 而是未初始化的随机值"
   ]
  },
  {
   "cell_type": "code",
   "execution_count": 11,
   "metadata": {},
   "outputs": [],
   "source": [
    "ndarray10 = np.empty(5)\n",
    "ndarray11 = np.empty((2, 3))\n",
    "ndarray12 = np.empty_like(ndarray11)"
   ]
  },
  {
   "cell_type": "code",
   "execution_count": 12,
   "metadata": {},
   "outputs": [
    {
     "data": {
      "text/plain": [
       "array([ 0.,  0.,  0.,  0.,  0.])"
      ]
     },
     "execution_count": 12,
     "metadata": {},
     "output_type": "execute_result"
    }
   ],
   "source": [
    "ndarray10"
   ]
  },
  {
   "cell_type": "code",
   "execution_count": 13,
   "metadata": {},
   "outputs": [
    {
     "data": {
      "text/plain": [
       "array([[  1.72723371e-077,   2.00390412e+000,   1.48219694e-323],\n",
       "       [  0.00000000e+000,   0.00000000e+000,   4.17201348e-309]])"
      ]
     },
     "execution_count": 13,
     "metadata": {},
     "output_type": "execute_result"
    }
   ],
   "source": [
    "ndarray11"
   ]
  },
  {
   "cell_type": "code",
   "execution_count": 14,
   "metadata": {},
   "outputs": [
    {
     "data": {
      "text/plain": [
       "array([[  1.72723371e-077,   2.68679615e+154,   1.48219694e-323],\n",
       "       [  0.00000000e+000,   0.00000000e+000,   4.17201348e-309]])"
      ]
     },
     "execution_count": 14,
     "metadata": {},
     "output_type": "execute_result"
    }
   ],
   "source": [
    "ndarray12"
   ]
  },
  {
   "cell_type": "markdown",
   "metadata": {},
   "source": [
    "## arange创建数组\n",
    "arange函数是python内置函数range函数的数组版本"
   ]
  },
  {
   "cell_type": "code",
   "execution_count": 15,
   "metadata": {},
   "outputs": [
    {
     "name": "stdout",
     "output_type": "stream",
     "text": [
      "ndarray14的形状: (10,)\n"
     ]
    },
    {
     "data": {
      "text/plain": [
       "array([[10, 11, 12, 13, 14],\n",
       "       [15, 16, 17, 18, 19]])"
      ]
     },
     "execution_count": 15,
     "metadata": {},
     "output_type": "execute_result"
    }
   ],
   "source": [
    "# 产生0-9共10个元素\n",
    "ndarray13 = np.arange(10)\n",
    "# 产生从10-19共10个元素\n",
    "ndarray14 = np.arange(10, 20)\n",
    "# 产生10 12 14 16 18, 2为step\n",
    "ndarray15 = np.arange(10, 20, 2)\n",
    "# ndarray15的形状\n",
    "print('ndarray14的形状:', ndarray14.shape)\n",
    "# 将其形状改变为(2, 5)\n",
    "ndarray14.reshape((2, 5))"
   ]
  },
  {
   "cell_type": "code",
   "execution_count": 16,
   "metadata": {},
   "outputs": [
    {
     "data": {
      "text/plain": [
       "array([0, 1, 2, 3, 4, 5, 6, 7, 8, 9])"
      ]
     },
     "execution_count": 16,
     "metadata": {},
     "output_type": "execute_result"
    }
   ],
   "source": [
    "ndarray13"
   ]
  },
  {
   "cell_type": "code",
   "execution_count": 17,
   "metadata": {},
   "outputs": [
    {
     "data": {
      "text/plain": [
       "array([10, 11, 12, 13, 14, 15, 16, 17, 18, 19])"
      ]
     },
     "execution_count": 17,
     "metadata": {},
     "output_type": "execute_result"
    }
   ],
   "source": [
    "ndarray14"
   ]
  },
  {
   "cell_type": "code",
   "execution_count": 18,
   "metadata": {},
   "outputs": [
    {
     "data": {
      "text/plain": [
       "array([10, 12, 14, 16, 18])"
      ]
     },
     "execution_count": 18,
     "metadata": {},
     "output_type": "execute_result"
    }
   ],
   "source": [
    "ndarray15"
   ]
  },
  {
   "cell_type": "markdown",
   "metadata": {},
   "source": [
    "## eye创建对角矩阵数组\n",
    "该函数用于创建一个N*N的矩阵, 对角线为1, 其余为0"
   ]
  },
  {
   "cell_type": "code",
   "execution_count": 19,
   "metadata": {},
   "outputs": [],
   "source": [
    "ndarray16 = np.eye(5)"
   ]
  },
  {
   "cell_type": "code",
   "execution_count": 21,
   "metadata": {},
   "outputs": [
    {
     "data": {
      "text/plain": [
       "array([[ 1.,  0.,  0.,  0.,  0.],\n",
       "       [ 0.,  1.,  0.,  0.,  0.],\n",
       "       [ 0.,  0.,  1.,  0.,  0.],\n",
       "       [ 0.,  0.,  0.,  1.,  0.],\n",
       "       [ 0.,  0.,  0.,  0.,  1.]])"
      ]
     },
     "execution_count": 21,
     "metadata": {},
     "output_type": "execute_result"
    }
   ],
   "source": [
    "ndarray16"
   ]
  },
  {
   "cell_type": "code",
   "execution_count": null,
   "metadata": {},
   "outputs": [],
   "source": []
  }
 ],
 "metadata": {
  "kernelspec": {
   "display_name": "Python 3",
   "language": "python",
   "name": "python3"
  },
  "language_info": {
   "codemirror_mode": {
    "name": "ipython",
    "version": 3
   },
   "file_extension": ".py",
   "mimetype": "text/x-python",
   "name": "python",
   "nbconvert_exporter": "python",
   "pygments_lexer": "ipython3",
   "version": "3.6.4"
  }
 },
 "nbformat": 4,
 "nbformat_minor": 2
}
