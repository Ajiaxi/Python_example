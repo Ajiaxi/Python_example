{
 "cells": [
  {
   "cell_type": "code",
   "execution_count": null,
   "metadata": {
    "collapsed": true
   },
   "outputs": [],
   "source": [
    "# coding = utf-8\n",
    "\n",
    "users2 = {\"Amy\": {\"Taylor Swift\": 4, \"PSY\": 3, \"Whitney Houston\": 4},\n",
    "          \"Ben\": {\"Taylor Swift\": 5, \"PSY\": 2},\n",
    "          \"Clara\": {\"PSY\": 3.5, \"Whitney Houston\": 4},\n",
    "          \"Daisy\": {\"Taylor Swift\": 5, \"Whitney Houston\": 3}}\n",
    "\n",
    "class jiaquan_slope_one(object):\n",
    "    def __init__(self, data, k=1, metric='pearson', n=5):\n",
    "    ...\n",
    "    # 以下变量将用于Slope One算法\n",
    "    self.frequencies = {}\n",
    "    self.deviations = {}\n",
    "    \n",
    "    def computeDeviations(self):\n",
    "    # 获取每位用户的评分数据\n",
    "    for ratings in self.data.values():\n",
    "        # 对于该用户的每个评分项（歌手、分数）\n",
    "        for (item, rating) in ratings.items():\n",
    "            self.frequencies.setdefault(item, {})\n",
    "            self.deviations.setdefault(item, {})\n",
    "            # 再次遍历该用户的每个评分项\n",
    "            for (item2, rating2) in ratings.items():\n",
    "                if item != item2:\n",
    "                    # 将评分的差异保存到变量中\n",
    "                    self.frequencies[item].setdefault(item2, 0)\n",
    "                    self.deviations[item].setdefault(item2, 0.0)\n",
    "                    self.frequencies[item][item2] += 1\n",
    "                    self.deviations[item][item2] += rating - rating2\n",
    "\n",
    "    for (item, ratings) in self.deviations.items():\n",
    "        for item2 in ratings:\n",
    "            ratings[item2] /= self.frequencies[item][item2]\n",
    "            \n",
    "r = Recommender()\n",
    "r.computeDeviations()\n",
    "print(r.deviations)\n"
   ]
  }
 ],
 "metadata": {
  "kernelspec": {
   "display_name": "Python 3",
   "language": "python",
   "name": "python3"
  },
  "language_info": {
   "codemirror_mode": {
    "name": "ipython",
    "version": 3
   },
   "file_extension": ".py",
   "mimetype": "text/x-python",
   "name": "python",
   "nbconvert_exporter": "python",
   "pygments_lexer": "ipython3",
   "version": "3.6.2"
  }
 },
 "nbformat": 4,
 "nbformat_minor": 2
}
