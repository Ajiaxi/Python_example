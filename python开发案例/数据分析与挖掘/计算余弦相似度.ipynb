{
 "cells": [
  {
   "cell_type": "code",
   "execution_count": 41,
   "metadata": {},
   "outputs": [
    {
     "name": "stdout",
     "output_type": "stream",
     "text": [
      "***************************************尝试计算Clara和Robert的余弦相似度***************************************\n",
      "0.9351534585705217\n"
     ]
    }
   ],
   "source": [
    "# coding=utf-8\n",
    "# 余弦相似度。它在文本挖掘中应用得较多，在协同过滤中也会使用到\n",
    "from math import sqrt\n",
    "\n",
    "users = {\"Angelica\": {\"Blues Traveler\": 3.5, \"Broken Bells\": 2.0, \"Norah Jones\": 4.5, \"Phoenix\": 5.0, \"Slightly Stoopid\": 1.5, \"The Strokes\": 2.5, \"Vampire Weekend\": 2.0},\n",
    "         \"Bill\":{\"Blues Traveler\": 2.0, \"Broken Bells\": 3.5, \"Deadmau5\": 4.0, \"Phoenix\": 2.0, \"Slightly Stoopid\": 3.5, \"Vampire Weekend\": 3.0},\n",
    "         \"Chan\": {\"Blues Traveler\": 5.0, \"Broken Bells\": 1.0, \"Deadmau5\": 1.0, \"Norah Jones\": 3.0, \"Phoenix\": 5, \"Slightly Stoopid\": 1.0},\n",
    "         \"Dan\": {\"Blues Traveler\": 3.0, \"Broken Bells\": 4.0, \"Deadmau5\": 4.5, \"Phoenix\": 3.0, \"Slightly Stoopid\": 4.5, \"The Strokes\": 4.0, \"Vampire Weekend\": 2.0},\n",
    "         \"Hailey\": {\"Broken Bells\": 4.0, \"Deadmau5\": 1.0, \"Norah Jones\": 4.0, \"The Strokes\": 4.0, \"Vampire Weekend\": 1.0},\n",
    "         \"Jordyn\":  {\"Broken Bells\": 4.5, \"Deadmau5\": 4.0, \"Norah Jones\": 5.0, \"Phoenix\": 5.0, \"Slightly Stoopid\": 4.5, \"The Strokes\": 4.0, \"Vampire Weekend\": 4.0},\n",
    "         \"Sam\": {\"Blues Traveler\": 5.0, \"Broken Bells\": 2.0, \"Norah Jones\": 3.0, \"Phoenix\": 5.0, \"Slightly Stoopid\": 4.0, \"The Strokes\": 5.0},\n",
    "         \"Veronica\": {\"Blues Traveler\": 3.0, \"Norah Jones\": 5.0, \"Phoenix\": 4.0, \"Slightly Stoopid\": 2.5, \"The Strokes\": 3.0},\n",
    "         'Clara': {'Blues Traveler': 4.75, 'Norah Jones': 4.5, 'Phoenix': 5, 'The Strokes': 4.25, 'Weird Al': 4},\n",
    "         'Robert': {'Blues Traveler': 4, 'Norah Jones': 3, 'Phoenix': 5, 'The Strokes': 2, 'Weird Al': 1},\n",
    "        }\n",
    "\n",
    "# 计算余弦相似度\n",
    "def cos_same(rating1, rating2):\n",
    "    x = []\n",
    "    y = []\n",
    "    for key, value in rating1.items():\n",
    "        if key in rating2.keys():\n",
    "            x.append(value)         # 得到x向量\n",
    "            y.append(rating2[key])  # 得到y向量\n",
    "#     print(x)\n",
    "#     print(y)\n",
    "    tmp_x = 0\n",
    "    tmp_y = 0\n",
    "    for i in x:\n",
    "        tmp_x += pow(i, 2)\n",
    "    for i in y:\n",
    "        tmp_y += pow(i, 2)\n",
    "    x_module = sqrt(tmp_x)        # 得到x的模的值\n",
    "    y_moudle = sqrt(tmp_y)        # 得到y的模的值\n",
    "#     print(x_module, ' ', y_moudle)\n",
    "    x_multi_y = 0\n",
    "    for count in range(0,len(x)):\n",
    "        x_multi_y += x[count] * y[count]\n",
    "#     print(x_multi_y)\n",
    "    return x_multi_y / (x_module * y_moudle)\n",
    "\n",
    "print('尝试计算Clara和Robert的余弦相似度'.center(100, '*'))\n",
    "print(cos_same(users['Clara'], users['Robert']))"
   ]
  },
  {
   "cell_type": "code",
   "execution_count": null,
   "metadata": {
    "collapsed": true
   },
   "outputs": [],
   "source": []
  }
 ],
 "metadata": {
  "kernelspec": {
   "display_name": "Python 3",
   "language": "python",
   "name": "python3"
  },
  "language_info": {
   "codemirror_mode": {
    "name": "ipython",
    "version": 3
   },
   "file_extension": ".py",
   "mimetype": "text/x-python",
   "name": "python",
   "nbconvert_exporter": "python",
   "pygments_lexer": "ipython3",
   "version": "3.6.2"
  }
 },
 "nbformat": 4,
 "nbformat_minor": 2
}
