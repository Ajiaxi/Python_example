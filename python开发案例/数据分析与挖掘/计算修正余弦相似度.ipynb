{
 "cells": [
  {
   "cell_type": "code",
   "execution_count": 1,
   "metadata": {},
   "outputs": [
    {
     "name": "stdout",
     "output_type": "stream",
     "text": [
      "0.320959291340884\n",
      "-0.2525265372291518\n",
      "0.7841149584671063\n"
     ]
    }
   ],
   "source": [
    "'''\n",
    "回顾:\n",
    "1. 修正的余弦相似度是一种基于模型的协同过滤算法。\n",
    "   我们前面提过，这种算法的优势之一是扩展性好，对于大数据量而言，运算速度快、占用内存少。\n",
    "2. 用户的评价标准是不同的，比如喜欢一个歌手时有些人会打4分，有些打5分；\n",
    "   不喜欢时有人会打3分，有些则会只给1分。\n",
    "   修正的余弦相似度计算时会将用户对物品的评分减去用户所有评分的均值，从而解决这个问题。\n",
    "'''\n",
    "\n",
    "from math import sqrt\n",
    "\n",
    "users3 = {\"David\": {\"Imagine Dragons\": 3, \"Daft Punk\": 5,\n",
    "                    \"Lorde\": 4, \"Fall Out Boy\": 1},\n",
    "          \"Matt\": {\"Imagine Dragons\": 3, \"Daft Punk\": 4,\n",
    "                   \"Lorde\": 4, \"Fall Out Boy\": 1},\n",
    "          \"Ben\": {\"Kacey Musgraves\": 4, \"Imagine Dragons\": 3,\n",
    "                  \"Lorde\": 3, \"Fall Out Boy\": 1},\n",
    "          \"Chris\": {\"Kacey Musgraves\": 4, \"Imagine Dragons\": 4,\n",
    "                    \"Daft Punk\": 4, \"Lorde\": 3, \"Fall Out Boy\": 1},\n",
    "          \"Tori\": {\"Kacey Musgraves\": 5, \"Imagine Dragons\": 4,\n",
    "                   \"Daft Punk\": 5, \"Fall Out Boy\": 3}}\n",
    "\n",
    "\n",
    "def computeSimilarity(band1, band2, userRatings):\n",
    "    averages = {}\n",
    "    for (key, ratings) in userRatings.items():\n",
    "        averages[key] = (float(sum(ratings.values())) / len(ratings.values()))\n",
    "    \n",
    "    num = 0 # 分子\n",
    "    dem1 = 0 # 分母的第一部分\n",
    "    dem2 = 0\n",
    "    for (user, ratings) in userRatings.items():\n",
    "        if band1 in ratings and band2 in ratings:\n",
    "            avg = averages[user]\n",
    "            num += (ratings[band1] - avg) * (ratings[band2] - avg)\n",
    "            dem1 += (ratings[band1] - avg) ** 2\n",
    "            dem2 += (ratings[band2] - avg) ** 2\n",
    "    return num / (sqrt(dem1) * sqrt(dem2))\n",
    "\n",
    "print(computeSimilarity('Kacey Musgraves', 'Lorde', users3))\n",
    "print(computeSimilarity('Imagine Dragons', 'Lorde', users3))\n",
    "print(computeSimilarity('Daft Punk', 'Lorde', users3))"
   ]
  }
 ],
 "metadata": {
  "kernelspec": {
   "display_name": "Python 3",
   "language": "python",
   "name": "python3"
  },
  "language_info": {
   "codemirror_mode": {
    "name": "ipython",
    "version": 3
   },
   "file_extension": ".py",
   "mimetype": "text/x-python",
   "name": "python",
   "nbconvert_exporter": "python",
   "pygments_lexer": "ipython3",
   "version": "3.6.2"
  }
 },
 "nbformat": 4,
 "nbformat_minor": 2
}
